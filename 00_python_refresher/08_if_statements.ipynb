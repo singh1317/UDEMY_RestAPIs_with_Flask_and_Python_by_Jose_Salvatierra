{
 "cells": [
  {
   "cell_type": "code",
   "execution_count": 1,
   "metadata": {},
   "outputs": [
    {
     "name": "stdout",
     "output_type": "stream",
     "text": [
      "Full speed ahead!\n"
     ]
    }
   ],
   "source": [
    "day_of_week = input(\"What day of the week is it today? \")\n",
    "\n",
    "if day_of_week == \"Monday\":\n",
    "    print(\"Have a great start to your week!\")\n",
    "elif day_of_week == \"Friday\":\n",
    "    print(\"It's ok to finish a bit early!\")\n",
    "else:\n",
    "    print(\"Full speed ahead!\")"
   ]
  },
  {
   "cell_type": "code",
   "execution_count": 2,
   "metadata": {},
   "outputs": [
    {
     "name": "stdout",
     "output_type": "stream",
     "text": [
      "Full speed ahead!\n"
     ]
    }
   ],
   "source": [
    "\n",
    "\n",
    "# -- Problem: user not entering what we expect --\n",
    "\n",
    "day_of_week = input(\"What day of the week is it today? \").lower()\n",
    "\n",
    "if day_of_week == \"monday\":\n",
    "    print(\"Have a great start to your week!\")\n",
    "elif day_of_week == \"friday\":\n",
    "    print(\"It's ok to finish a bit early!\")\n",
    "else:\n",
    "    print(\"Full speed ahead!\")\n"
   ]
  }
 ],
 "metadata": {
  "kernelspec": {
   "display_name": "Python 3",
   "language": "python",
   "name": "python3"
  },
  "language_info": {
   "codemirror_mode": {
    "name": "ipython",
    "version": 3
   },
   "file_extension": ".py",
   "mimetype": "text/x-python",
   "name": "python",
   "nbconvert_exporter": "python",
   "pygments_lexer": "ipython3",
   "version": "3.13.1"
  }
 },
 "nbformat": 4,
 "nbformat_minor": 2
}
