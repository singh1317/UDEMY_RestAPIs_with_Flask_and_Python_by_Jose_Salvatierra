{
 "cells": [
  {
   "cell_type": "code",
   "execution_count": 1,
   "metadata": {},
   "outputs": [
    {
     "name": "stdout",
     "output_type": "stream",
     "text": [
      "True\n",
      "False\n",
      "False\n"
     ]
    }
   ],
   "source": [
    "# -- Comparisons --\n",
    "\n",
    "print(5 == 5)  # True\n",
    "print(5 > 5)  # False\n",
    "print(10 != 10)  # False"
   ]
  },
  {
   "cell_type": "code",
   "execution_count": 2,
   "metadata": {},
   "outputs": [
    {
     "name": "stdout",
     "output_type": "stream",
     "text": [
      "True\n",
      "False\n"
     ]
    }
   ],
   "source": [
    "\n",
    "\n",
    "# Comparisons: ==, !=, >, <, >=, <=\n",
    "\n",
    "# -- is --\n",
    "# Python also has the `is` keyword. It's a confusing keyword for now, so I don't recommend using it.\n",
    "\n",
    "friends = [\"Rolf\", \"Bob\"]\n",
    "abroad = [\"Rolf\", \"Bob\"]\n",
    "\n",
    "print(friends == abroad)  # True\n",
    "print(friends is abroad)  # False\n"
   ]
  }
 ],
 "metadata": {
  "kernelspec": {
   "display_name": "Python 3",
   "language": "python",
   "name": "python3"
  },
  "language_info": {
   "codemirror_mode": {
    "name": "ipython",
    "version": 3
   },
   "file_extension": ".py",
   "mimetype": "text/x-python",
   "name": "python",
   "nbconvert_exporter": "python",
   "pygments_lexer": "ipython3",
   "version": "3.13.1"
  }
 },
 "nbformat": 4,
 "nbformat_minor": 2
}
