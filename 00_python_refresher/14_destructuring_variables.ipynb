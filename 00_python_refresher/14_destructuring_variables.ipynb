{
 "cells": [
  {
   "cell_type": "code",
   "execution_count": null,
   "metadata": {
    "vscode": {
     "languageId": "plaintext"
    }
   },
   "outputs": [],
   "source": [
    "x, y = 5, 11\n",
    "\n",
    "# x, y = (5, 11)\n",
    "\n",
    "# -- Destructuring in for loops --\n",
    "\n",
    "student_attendance = {\"Rolf\": 96, \"Bob\": 80, \"Anne\": 100}\n",
    "\n",
    "for student, attendance in student_attendance.items():\n",
    "    print(f\"{student}: {attendance}\")\n",
    "\n",
    "\n",
    "# -- Another example --\n",
    "\n",
    "people = [(\"Bob\", 42, \"Mechanic\"), (\"James\", 24, \"Artist\"), (\"Harry\", 32, \"Lecturer\")]\n",
    "\n",
    "for name, age, profession in people:\n",
    "    print(f\"Name: {name}, Age: {age}, Profession: {profession}\")\n",
    "\n",
    "\n",
    "# -- Much better than this! --\n",
    "\n",
    "for person in people:\n",
    "    print(f\"Name: {person[0]}, Age: {person[1]}, Profession: {person[2]}\")\n",
    "\n",
    "\n",
    "# -- Ignoring values with underscore --\n",
    "\n",
    "person = (\"Bob\", 42, \"Mechanic\")\n",
    "name, _, profession = person\n",
    "\n",
    "print(name, profession)  # Bob Mechanic\n",
    "\n",
    "\n",
    "# -- Collecting values --\n",
    "\n",
    "head, *tail = [1, 2, 3, 4, 5]\n",
    "\n",
    "print(head)  # 1\n",
    "print(tail)  # [2, 3, 4, 5]\n",
    "\n",
    "\n",
    "*head, tail = [1, 2, 3, 4, 5]\n",
    "\n",
    "print(head)  # [1, 2, 3, 4]\n",
    "print(tail)  # 5\n",
    "\n",
    "# -- Packing and unpacking --\n",
    "\n",
    "# This isn't actually the end of the story, as there are also ways to pack and unpack collections using * and **, but that's a bit more advanced and you'll learn about it later on!\n"
   ]
  }
 ],
 "metadata": {
  "language_info": {
   "name": "python"
  }
 },
 "nbformat": 4,
 "nbformat_minor": 2
}
