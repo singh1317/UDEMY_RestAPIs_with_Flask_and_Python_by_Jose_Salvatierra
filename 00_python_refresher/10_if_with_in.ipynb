{
 "cells": [
  {
   "cell_type": "code",
   "execution_count": 1,
   "metadata": {},
   "outputs": [
    {
     "name": "stdout",
     "output_type": "stream",
     "text": [
      "I've watched Her too!\n"
     ]
    }
   ],
   "source": [
    "movies_watched = {\"The Matrix\", \"Green Book\", \"Her\"}\n",
    "user_movie = input(\"Enter something you've watched recently: \")\n",
    "\n",
    "if user_movie in movies_watched:\n",
    "    print(f\"I've watched {user_movie} too!\")\n",
    "else:\n",
    "    print(\"I haven't watched that yet.\")"
   ]
  },
  {
   "cell_type": "code",
   "execution_count": 3,
   "metadata": {},
   "outputs": [
    {
     "name": "stdout",
     "output_type": "stream",
     "text": [
      "You were off by 1.\n"
     ]
    }
   ],
   "source": [
    "number = 7\n",
    "user_input = input(\"Enter 'y' if you would like to play: \")\n",
    "\n",
    "if user_input in (\"y\", \"Y\"):\n",
    "    user_number = int(input(\"Guess our number: \"))\n",
    "    if user_number == number:\n",
    "        print(\"You guessed correctly!\")\n",
    "    elif number - user_number in (1, -1):\n",
    "        print(\"You were off by 1.\")\n",
    "    else:\n",
    "        print(\"Sorry, it's wrong!\")"
   ]
  },
  {
   "cell_type": "code",
   "execution_count": 4,
   "metadata": {},
   "outputs": [
    {
     "name": "stdout",
     "output_type": "stream",
     "text": [
      "Sorry, it's wrong!\n"
     ]
    }
   ],
   "source": [
    "number = 7\n",
    "user_input = input(\"Enter 'y' if you would like to play: \")\n",
    "\n",
    "if user_input.lower() == \"y\":\n",
    "    user_number = int(input(\"Guess our number: \"))\n",
    "    if user_number == number:\n",
    "        print(\"You guessed correctly!\")\n",
    "    elif abs(number - user_number) == 1:\n",
    "        print(\"You were off by 1.\")\n",
    "    else:\n",
    "        print(\"Sorry, it's wrong!\")\n"
   ]
  }
 ],
 "metadata": {
  "kernelspec": {
   "display_name": "Python 3",
   "language": "python",
   "name": "python3"
  },
  "language_info": {
   "codemirror_mode": {
    "name": "ipython",
    "version": 3
   },
   "file_extension": ".py",
   "mimetype": "text/x-python",
   "name": "python",
   "nbconvert_exporter": "python",
   "pygments_lexer": "ipython3",
   "version": "3.13.1"
  }
 },
 "nbformat": 4,
 "nbformat_minor": 2
}
