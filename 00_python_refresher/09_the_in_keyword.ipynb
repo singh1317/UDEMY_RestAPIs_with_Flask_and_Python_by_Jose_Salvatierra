{
 "cells": [
  {
   "cell_type": "code",
   "execution_count": 1,
   "metadata": {},
   "outputs": [
    {
     "name": "stdout",
     "output_type": "stream",
     "text": [
      "True\n"
     ]
    }
   ],
   "source": [
    "friends = [\"Rolf\", \"Bob\", \"Jen\"]\n",
    "print(\"Jen\" in friends)\n"
   ]
  },
  {
   "cell_type": "code",
   "execution_count": 2,
   "metadata": {},
   "outputs": [
    {
     "name": "stdout",
     "output_type": "stream",
     "text": [
      "True\n"
     ]
    }
   ],
   "source": [
    "movies_watched = {\"The Matrix\", \"Green Book\", \"Her\"}\n",
    "user_movie = input(\"Enter something you've watched recently: \")\n",
    "\n",
    "print(user_movie in movies_watched)\n",
    "\n",
    "# The `in` keyword works in most sequences like lists, tuples, and sets.\n"
   ]
  }
 ],
 "metadata": {
  "kernelspec": {
   "display_name": "Python 3",
   "language": "python",
   "name": "python3"
  },
  "language_info": {
   "codemirror_mode": {
    "name": "ipython",
    "version": 3
   },
   "file_extension": ".py",
   "mimetype": "text/x-python",
   "name": "python",
   "nbconvert_exporter": "python",
   "pygments_lexer": "ipython3",
   "version": "3.13.1"
  }
 },
 "nbformat": 4,
 "nbformat_minor": 2
}
