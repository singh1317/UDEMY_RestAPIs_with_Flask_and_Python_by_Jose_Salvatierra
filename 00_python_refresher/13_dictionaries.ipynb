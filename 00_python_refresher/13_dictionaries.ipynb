{
 "cells": [
  {
   "cell_type": "code",
   "execution_count": 1,
   "metadata": {},
   "outputs": [
    {
     "name": "stdout",
     "output_type": "stream",
     "text": [
      "{'Rolf': 24, 'Adam': 30, 'Anne': 27, 'Bob': 20}\n",
      "20\n",
      "[{'name': 'Rolf Smith', 'age': 24}, {'name': 'Adam Wool', 'age': 30}, {'name': 'Anne Pun', 'age': 27}]\n"
     ]
    }
   ],
   "source": [
    "friend_ages = {\"Rolf\": 24, \"Adam\": 30, \"Anne\": 27}\n",
    "\n",
    "friend_ages[\"Bob\"] = 20\n",
    "\n",
    "print(friend_ages)  # {'Rolf': 24, 'Adam': 30, 'Anne': 27, 'Bob': 20}\n",
    "print(friend_ages[\"Bob\"])\n",
    "\n",
    "# -- List of dictionaries --\n",
    "\n",
    "friends = [\n",
    "    {\"name\": \"Rolf Smith\", \"age\": 24},\n",
    "    {\"name\": \"Adam Wool\", \"age\": 30},\n",
    "    {\"name\": \"Anne Pun\", \"age\": 27},\n",
    "]\n",
    "\n",
    "print(friends)"
   ]
  },
  {
   "cell_type": "code",
   "execution_count": 2,
   "metadata": {},
   "outputs": [
    {
     "name": "stdout",
     "output_type": "stream",
     "text": [
      "Rolf: 96\n",
      "Bob: 80\n",
      "Anne: 100\n"
     ]
    }
   ],
   "source": [
    "# -- Iteration --\n",
    "\n",
    "student_attendance = {\"Rolf\": 96, \"Bob\": 80, \"Anne\": 100}\n",
    "\n",
    "for student in student_attendance:\n",
    "    print(f\"{student}: {student_attendance[student]}\")"
   ]
  },
  {
   "cell_type": "code",
   "execution_count": 3,
   "metadata": {},
   "outputs": [
    {
     "name": "stdout",
     "output_type": "stream",
     "text": [
      "Rolf: 96\n",
      "Bob: 80\n",
      "Anne: 100\n"
     ]
    }
   ],
   "source": [
    "# Better\n",
    "\n",
    "for student, attendance in student_attendance.items():\n",
    "    print(f\"{student}: {attendance}\")"
   ]
  },
  {
   "cell_type": "code",
   "execution_count": 4,
   "metadata": {},
   "outputs": [
    {
     "name": "stdout",
     "output_type": "stream",
     "text": [
      "Bob: 100\n"
     ]
    }
   ],
   "source": [
    "# -- Using the `in` keyword --\n",
    "\n",
    "if \"Bob\" in student_attendance:\n",
    "    print(f\"Bob: {student_attendance[student]}\")\n",
    "else:\n",
    "    print(\"Bob isn't a student in this class!\")"
   ]
  },
  {
   "cell_type": "code",
   "execution_count": 5,
   "metadata": {},
   "outputs": [
    {
     "name": "stdout",
     "output_type": "stream",
     "text": [
      "92.0\n"
     ]
    }
   ],
   "source": [
    "# -- Calculate an average with `.values()` --\n",
    "\n",
    "attendace_values = student_attendance.values()\n",
    "print(sum(attendace_values) / len(attendace_values))"
   ]
  }
 ],
 "metadata": {
  "kernelspec": {
   "display_name": "Python 3",
   "language": "python",
   "name": "python3"
  },
  "language_info": {
   "codemirror_mode": {
    "name": "ipython",
    "version": 3
   },
   "file_extension": ".py",
   "mimetype": "text/x-python",
   "name": "python",
   "nbconvert_exporter": "python",
   "pygments_lexer": "ipython3",
   "version": "3.13.1"
  }
 },
 "nbformat": 4,
 "nbformat_minor": 2
}
