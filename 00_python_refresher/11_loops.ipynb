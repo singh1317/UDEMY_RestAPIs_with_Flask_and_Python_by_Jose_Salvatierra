{
 "cells": [
  {
   "cell_type": "code",
   "execution_count": 1,
   "metadata": {},
   "outputs": [
    {
     "name": "stdout",
     "output_type": "stream",
     "text": [
      "Sorry, it's wrong!\n",
      "You were off by 1.\n",
      "You guessed correctly!\n"
     ]
    }
   ],
   "source": [
    "# -- While loop --\n",
    "\n",
    "number = 7\n",
    "play = input(\"Would you like to play? (Y/n) \")\n",
    "\n",
    "while play != \"n\":\n",
    "    user_number = int(input(\"Guess our number: \"))\n",
    "    if user_number == number:\n",
    "        print(\"You guessed correctly!\")\n",
    "    elif abs(number - user_number) == 1:\n",
    "        print(\"You were off by 1.\")\n",
    "    else:\n",
    "        print(\"Sorry, it's wrong!\")\n",
    "\n",
    "    play = input(\"Would you like to play? (Y/n) \")"
   ]
  },
  {
   "cell_type": "code",
   "execution_count": null,
   "metadata": {},
   "outputs": [],
   "source": [
    "# -- The break keyword --\n",
    "\n",
    "while True:\n",
    "    play = input(\"Would you like to play? (Y/n) \")\n",
    "\n",
    "    if play == \"n\":\n",
    "        break  # Exit the loop\n",
    "\n",
    "    user_number = int(input(\"Guess our number: \"))\n",
    "    if user_number == number:\n",
    "        print(\"You guessed correctly!\")\n",
    "    elif abs(number - user_number) == 1:\n",
    "        print(\"You were off by 1.\")\n",
    "    else:\n",
    "        print(\"Sorry, it's wrong!\")"
   ]
  },
  {
   "cell_type": "code",
   "execution_count": 2,
   "metadata": {},
   "outputs": [
    {
     "name": "stdout",
     "output_type": "stream",
     "text": [
      "Rolf is my friend.\n",
      "Jen is my friend.\n",
      "Bob is my friend.\n",
      "Anne is my friend.\n"
     ]
    }
   ],
   "source": [
    "# -- For loop --\n",
    "\n",
    "friends = [\"Rolf\", \"Jen\", \"Bob\", \"Anne\"]\n",
    "for friend in friends:\n",
    "    print(f\"{friend} is my friend.\")"
   ]
  },
  {
   "cell_type": "code",
   "execution_count": 3,
   "metadata": {},
   "outputs": [
    {
     "name": "stdout",
     "output_type": "stream",
     "text": [
      "80.0\n"
     ]
    }
   ],
   "source": [
    "# -- For loop 2 -- Average\n",
    "\n",
    "grades = [35, 67, 98, 100, 100]\n",
    "total = 0\n",
    "amount = len(grades)\n",
    "\n",
    "for grade in grades:\n",
    "    total += grade\n",
    "\n",
    "print(total / amount)"
   ]
  },
  {
   "cell_type": "code",
   "execution_count": 4,
   "metadata": {},
   "outputs": [
    {
     "name": "stdout",
     "output_type": "stream",
     "text": [
      "80.0\n"
     ]
    }
   ],
   "source": [
    "# -- Rewritten using sum() --\n",
    "\n",
    "grades = [35, 67, 98, 100, 100]\n",
    "total = sum(grades)\n",
    "amount = len(grades)\n",
    "\n",
    "print(total / amount)"
   ]
  }
 ],
 "metadata": {
  "kernelspec": {
   "display_name": "Python 3",
   "language": "python",
   "name": "python3"
  },
  "language_info": {
   "codemirror_mode": {
    "name": "ipython",
    "version": 3
   },
   "file_extension": ".py",
   "mimetype": "text/x-python",
   "name": "python",
   "nbconvert_exporter": "python",
   "pygments_lexer": "ipython3",
   "version": "3.13.1"
  }
 },
 "nbformat": 4,
 "nbformat_minor": 2
}
