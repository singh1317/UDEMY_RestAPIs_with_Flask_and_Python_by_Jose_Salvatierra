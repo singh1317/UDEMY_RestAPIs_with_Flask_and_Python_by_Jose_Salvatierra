{
 "cells": [
  {
   "cell_type": "code",
   "execution_count": 1,
   "metadata": {},
   "outputs": [],
   "source": [
    "numbers = [1, 3, 5]\n",
    "squares = [x * 2 for x in numbers]"
   ]
  },
  {
   "cell_type": "code",
   "execution_count": 2,
   "metadata": {},
   "outputs": [
    {
     "name": "stdout",
     "output_type": "stream",
     "text": [
      "['Sam', 'Samantha', 'Saurabh']\n"
     ]
    }
   ],
   "source": [
    "# -- Dealing with strings --\n",
    "\n",
    "friends = [\"Rolf\", \"Sam\", \"Samantha\", \"Saurabh\", \"Jen\"]\n",
    "starts_s = []\n",
    "\n",
    "for friend in friends:\n",
    "    if friend.startswith(\"S\"):\n",
    "        starts_s.append(friend)\n",
    "\n",
    "print(starts_s)"
   ]
  },
  {
   "cell_type": "code",
   "execution_count": 3,
   "metadata": {},
   "outputs": [
    {
     "name": "stdout",
     "output_type": "stream",
     "text": [
      "['Sam', 'Samantha', 'Saurabh']\n"
     ]
    }
   ],
   "source": [
    "# -- Can make a new list of friends whose name starts with S --\n",
    "\n",
    "friends = [\"Rolf\", \"Sam\", \"Samantha\", \"Saurabh\", \"Jen\"]\n",
    "starts_s = [friend for friend in friends if friend.startswith(\"S\")]\n",
    "\n",
    "print(starts_s)"
   ]
  },
  {
   "cell_type": "code",
   "execution_count": 4,
   "metadata": {},
   "outputs": [
    {
     "name": "stdout",
     "output_type": "stream",
     "text": [
      "['Sam', 'Samantha', 'Saurabh']\n",
      "['Sam', 'Samantha', 'Saurabh']\n",
      "False\n",
      "friends:  2928201816768  starts_s:  2928201772160\n"
     ]
    }
   ],
   "source": [
    "# -- List comprehension creates a _new_ list --\n",
    "\n",
    "friends = [\"Sam\", \"Samantha\", \"Saurabh\"]\n",
    "starts_s = [friend for friend in friends if friend.startswith(\"S\")]  # same as above\n",
    "\n",
    "print(friends)\n",
    "print(starts_s)\n",
    "print(friends is starts_s)\n",
    "print(\"friends: \", id(friends), \" starts_s: \", id(starts_s))\n"
   ]
  }
 ],
 "metadata": {
  "kernelspec": {
   "display_name": "Python 3",
   "language": "python",
   "name": "python3"
  },
  "language_info": {
   "codemirror_mode": {
    "name": "ipython",
    "version": 3
   },
   "file_extension": ".py",
   "mimetype": "text/x-python",
   "name": "python",
   "nbconvert_exporter": "python",
   "pygments_lexer": "ipython3",
   "version": "3.13.1"
  }
 },
 "nbformat": 4,
 "nbformat_minor": 2
}
