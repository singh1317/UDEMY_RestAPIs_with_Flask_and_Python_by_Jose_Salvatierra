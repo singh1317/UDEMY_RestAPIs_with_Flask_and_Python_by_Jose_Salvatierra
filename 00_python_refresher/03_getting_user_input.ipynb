{
 "cells": [
  {
   "cell_type": "code",
   "execution_count": 1,
   "metadata": {},
   "outputs": [
    {
     "name": "stdout",
     "output_type": "stream",
     "text": [
      "Lokesh\n"
     ]
    }
   ],
   "source": [
    "name = input(\"Enter your name: \")\n",
    "print(name)"
   ]
  },
  {
   "cell_type": "code",
   "execution_count": 2,
   "metadata": {},
   "outputs": [
    {
     "name": "stdout",
     "output_type": "stream",
     "text": [
      "100 square feet is 9.25925925925926 square metres.\n"
     ]
    }
   ],
   "source": [
    "# -- Mathematics on user input --\n",
    "size_input = input(\"How big is your house (in square feet): \")\n",
    "square_feet = int(size_input)\n",
    "square_metres = square_feet / 10.8  # Make sure this is correct\n",
    "print(f\"{square_feet} square feet is {square_metres} square metres.\")\n"
   ]
  }
 ],
 "metadata": {
  "kernelspec": {
   "display_name": "Python 3",
   "language": "python",
   "name": "python3"
  },
  "language_info": {
   "codemirror_mode": {
    "name": "ipython",
    "version": 3
   },
   "file_extension": ".py",
   "mimetype": "text/x-python",
   "name": "python",
   "nbconvert_exporter": "python",
   "pygments_lexer": "ipython3",
   "version": "3.13.1"
  }
 },
 "nbformat": 4,
 "nbformat_minor": 2
}
