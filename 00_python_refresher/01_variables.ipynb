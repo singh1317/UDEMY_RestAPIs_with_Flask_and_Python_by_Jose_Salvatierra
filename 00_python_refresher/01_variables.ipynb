{
 "cells": [
  {
   "cell_type": "code",
   "execution_count": 4,
   "metadata": {},
   "outputs": [
    {
     "name": "stdout",
     "output_type": "stream",
     "text": [
      "7.992000000000001\n"
     ]
    }
   ],
   "source": [
    "# -- Numbers and Floats --\n",
    "\n",
    "x = 15\n",
    "price = 9.99\n",
    "discount = 0.2\n",
    "result = price * (1 - discount)\n",
    "print(result)"
   ]
  },
  {
   "cell_type": "code",
   "execution_count": 5,
   "metadata": {},
   "outputs": [
    {
     "name": "stdout",
     "output_type": "stream",
     "text": [
      "Rolf\n",
      "RolfRolf\n"
     ]
    }
   ],
   "source": [
    "# -- Strings --\n",
    "\n",
    "name = \"Rolf\"\n",
    "name = \"Rolf\"\n",
    "print(name)\n",
    "print(name * 2)"
   ]
  },
  {
   "cell_type": "code",
   "execution_count": 6,
   "metadata": {},
   "outputs": [
    {
     "name": "stdout",
     "output_type": "stream",
     "text": [
      "25\n",
      "25\n",
      "25\n",
      "17\n"
     ]
    }
   ],
   "source": [
    "# -- Changing variables --\n",
    "# Variables are names for values.\n",
    "\n",
    "a = 25\n",
    "b = a\n",
    "print(a)\n",
    "print(b)\n",
    "\n",
    "b = 17\n",
    "print(a)\n",
    "print(b)"
   ]
  }
 ],
 "metadata": {
  "kernelspec": {
   "display_name": "Python 3",
   "language": "python",
   "name": "python3"
  },
  "language_info": {
   "codemirror_mode": {
    "name": "ipython",
    "version": 3
   },
   "file_extension": ".py",
   "mimetype": "text/x-python",
   "name": "python",
   "nbconvert_exporter": "python",
   "pygments_lexer": "ipython3",
   "version": "3.13.1"
  }
 },
 "nbformat": 4,
 "nbformat_minor": 2
}
