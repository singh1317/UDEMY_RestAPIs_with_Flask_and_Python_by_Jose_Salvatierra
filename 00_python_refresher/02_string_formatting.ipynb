{
 "cells": [
  {
   "cell_type": "code",
   "execution_count": 1,
   "metadata": {},
   "outputs": [
    {
     "name": "stdout",
     "output_type": "stream",
     "text": [
      "Hello, Bob\n",
      "Hello, Bob\n",
      "Hello, Rolf\n"
     ]
    }
   ],
   "source": [
    "name = \"Bob\"\n",
    "greeting = \"Hello, Bob\"\n",
    "print(greeting)\n",
    "\n",
    "name = \"Rolf\"\n",
    "print(greeting)\n",
    "\n",
    "greeting = f\"Hello, {name}\"\n",
    "print(greeting)"
   ]
  },
  {
   "cell_type": "code",
   "execution_count": 2,
   "metadata": {},
   "outputs": [
    {
     "name": "stdout",
     "output_type": "stream",
     "text": [
      "Hello, Rolf\n",
      "Hello, Anne\n"
     ]
    }
   ],
   "source": [
    "name = \"Anne\"\n",
    "print(greeting)  # This still prints \"Hello, Rolf\" because `greeting` was calculated earlier.\n",
    "print(f\"Hello, {name}\")  # This is correct, since it uses `name` at the current point in time."
   ]
  },
  {
   "cell_type": "code",
   "execution_count": 3,
   "metadata": {},
   "outputs": [
    {
     "name": "stdout",
     "output_type": "stream",
     "text": [
      "Hello, Rolf\n",
      "Hello, Rolf. Today is Monday.\n"
     ]
    }
   ],
   "source": [
    "# -- Using .format() --\n",
    "# We can define template strings and then replace parts of it with another value, instead of doing it directly in the string.\n",
    "\n",
    "greeting = \"Hello, {}\"\n",
    "with_name = greeting.format(\"Rolf\")\n",
    "print(with_name)\n",
    "\n",
    "longer_phrase = \"Hello, {}. Today is {}.\"\n",
    "formatted = longer_phrase.format(\"Rolf\", \"Monday\")\n",
    "print(formatted)\n"
   ]
  }
 ],
 "metadata": {
  "kernelspec": {
   "display_name": "Python 3",
   "language": "python",
   "name": "python3"
  },
  "language_info": {
   "codemirror_mode": {
    "name": "ipython",
    "version": 3
   },
   "file_extension": ".py",
   "mimetype": "text/x-python",
   "name": "python",
   "nbconvert_exporter": "python",
   "pygments_lexer": "ipython3",
   "version": "3.13.1"
  }
 },
 "nbformat": 4,
 "nbformat_minor": 2
}
