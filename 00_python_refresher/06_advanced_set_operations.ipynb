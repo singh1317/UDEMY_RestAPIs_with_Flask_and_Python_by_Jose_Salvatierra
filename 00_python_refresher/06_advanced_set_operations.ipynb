{
 "cells": [
  {
   "cell_type": "code",
   "execution_count": 1,
   "metadata": {},
   "outputs": [
    {
     "name": "stdout",
     "output_type": "stream",
     "text": [
      "{'Rolf'}\n",
      "set()\n"
     ]
    }
   ],
   "source": [
    "# -- Difference between two sets --\n",
    "\n",
    "friends = {\"Bob\", \"Rolf\", \"Anne\"}\n",
    "abroad = {\"Bob\", \"Anne\"}\n",
    "\n",
    "# local_friends = ...\n",
    "# If there are 3 friends, and 2 are abroad, that means that 1 friend is local.\n",
    "# We can easily calculate which names are in `friends` but not in `abroad` by using `.difference`\n",
    "\n",
    "local = friends.difference(abroad)\n",
    "print(local)\n",
    "\n",
    "print(abroad.difference(friends))  # This returns an empty set"
   ]
  },
  {
   "cell_type": "code",
   "execution_count": 2,
   "metadata": {},
   "outputs": [
    {
     "name": "stdout",
     "output_type": "stream",
     "text": [
      "{'Rolf', 'Anne', 'Bob'}\n"
     ]
    }
   ],
   "source": [
    "# -- Union of two sets --\n",
    "local = {\"Rolf\"}\n",
    "abroad = {\"Bob\", \"Anne\"}\n",
    "\n",
    "# friends = ...\n",
    "# If we have 1 local friend and 2 abroad friends, we could calculate the total friends by using `.union`\n",
    "\n",
    "friends = local.union(abroad)\n",
    "print(friends)"
   ]
  },
  {
   "cell_type": "code",
   "execution_count": 3,
   "metadata": {},
   "outputs": [
    {
     "name": "stdout",
     "output_type": "stream",
     "text": [
      "{'Jen', 'Bob'}\n"
     ]
    }
   ],
   "source": [
    "# -- Intersection of two sets --\n",
    "\n",
    "art = {\"Bob\", \"Jen\", \"Rolf\", \"Charlie\"}\n",
    "science = {\"Bob\", \"Jen\", \"Adam\", \"Anne\"}\n",
    "\n",
    "# Given these two sets of students, we can calculate those who do both art and science by using `.intersection`\n",
    "\n",
    "both = art.intersection(science)\n",
    "print(both)\n"
   ]
  }
 ],
 "metadata": {
  "kernelspec": {
   "display_name": "Python 3",
   "language": "python",
   "name": "python3"
  },
  "language_info": {
   "codemirror_mode": {
    "name": "ipython",
    "version": 3
   },
   "file_extension": ".py",
   "mimetype": "text/x-python",
   "name": "python",
   "nbconvert_exporter": "python",
   "pygments_lexer": "ipython3",
   "version": "3.13.1"
  }
 },
 "nbformat": 4,
 "nbformat_minor": 2
}
